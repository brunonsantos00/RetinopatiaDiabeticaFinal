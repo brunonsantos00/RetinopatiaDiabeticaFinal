{
 "cells": [
  {
   "cell_type": "code",
   "execution_count": null,
   "id": "51f30387-d1e9-4f4b-af63-ef3c29b04fa5",
   "metadata": {},
   "outputs": [],
   "source": [
    "import pandas as pd\n",
    "from datetime import datetime\n",
    "from tensorflow.keras.models import load_model\n",
    "from tensorflow.keras.preprocessing.image import ImageDataGenerator"
   ]
  },
  {
   "cell_type": "code",
   "execution_count": null,
   "id": "42486ecf-0ec3-4b48-841e-ed9362ecfe87",
   "metadata": {},
   "outputs": [],
   "source": [
    "csv_path = '../test.csv'\n",
    "df = pd.read_csv(csv_path)\n",
    "df['path'] = df['id_code'].apply(lambda x: f\"../test_images/{x}.png\")\n",
    "\n",
    "#df = df.head(10)\n",
    "#print(df)"
   ]
  },
  {
   "cell_type": "code",
   "execution_count": null,
   "id": "a90a1756-4d3f-49d7-805f-27ee0697707a",
   "metadata": {},
   "outputs": [],
   "source": [
    "x, y = 512, 512"
   ]
  },
  {
   "cell_type": "code",
   "execution_count": null,
   "id": "bc236470-1b19-4fc9-b1c8-e1e7593523c9",
   "metadata": {},
   "outputs": [],
   "source": [
    "model = load_model('../models/diabetic_retinopathy_model.h5')"
   ]
  },
  {
   "cell_type": "code",
   "execution_count": null,
   "id": "747288d5-02fe-4f10-98e1-bc3bb1dc6983",
   "metadata": {},
   "outputs": [],
   "source": [
    "test_datagen = ImageDataGenerator(\n",
    "    rescale=1./255,\n",
    "    horizontal_flip=True\n",
    ")"
   ]
  },
  {
   "cell_type": "code",
   "execution_count": null,
   "id": "af7f7122-7374-4183-88a3-64b387dede80",
   "metadata": {},
   "outputs": [],
   "source": [
    "test_generator = test_datagen.flow_from_dataframe(\n",
    "    df,\n",
    "    directory=None,\n",
    "    x_col='path',\n",
    "    y_col=None,\n",
    "    target_size=(x, y),\n",
    "    color_mode='rgb',\n",
    "    class_mode=None,\n",
    "    batch_size=32,\n",
    "    shuffle=False,\n",
    "    validate_filenames=True,\n",
    ")         "
   ]
  },
  {
   "cell_type": "code",
   "execution_count": null,
   "id": "616b0c65-b440-49d0-b44d-5ada3c3da6f2",
   "metadata": {},
   "outputs": [],
   "source": [
    "predictions = model.predict(test_generator)"
   ]
  },
  {
   "cell_type": "code",
   "execution_count": null,
   "id": "f64a84bc-1f62-478f-be09-5d129239d1d6",
   "metadata": {},
   "outputs": [],
   "source": [
    "predicted_classes = predictions.argmax(axis=-1)"
   ]
  },
  {
   "cell_type": "code",
   "execution_count": null,
   "id": "f0d4102b-2ab0-42d7-8121-f7b09b410175",
   "metadata": {},
   "outputs": [],
   "source": [
    "df['diagnosis'] = predicted_classes"
   ]
  },
  {
   "cell_type": "code",
   "execution_count": null,
   "id": "08415367-61e9-4101-b688-e6058b515d7b",
   "metadata": {},
   "outputs": [],
   "source": [
    "df.drop(columns=['path'], inplace=True)"
   ]
  },
  {
   "cell_type": "code",
   "execution_count": null,
   "id": "b41d2a15-2d30-4b23-9487-83eed9365274",
   "metadata": {},
   "outputs": [],
   "source": [
    "df.to_csv(f'../{datetime.now().strftime('%Y%m%d_%H%M%S')}_sample_submission.csv', index=False)"
   ]
  },
  {
   "cell_type": "code",
   "execution_count": null,
   "id": "841b819c-bfaa-4ed7-bceb-6356791d4fda",
   "metadata": {},
   "outputs": [],
   "source": []
  }
 ],
 "metadata": {
  "kernelspec": {
   "display_name": "Python 3 (ipykernel)",
   "language": "python",
   "name": "python3"
  },
  "language_info": {
   "codemirror_mode": {
    "name": "ipython",
    "version": 3
   },
   "file_extension": ".py",
   "mimetype": "text/x-python",
   "name": "python",
   "nbconvert_exporter": "python",
   "pygments_lexer": "ipython3",
   "version": "3.12.3"
  }
 },
 "nbformat": 4,
 "nbformat_minor": 5
}
