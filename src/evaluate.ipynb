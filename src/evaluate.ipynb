{
 "cells": [
  {
   "cell_type": "code",
   "execution_count": null,
   "id": "db1ad2f0-fe2a-4992-b309-dee4af50b162",
   "metadata": {},
   "outputs": [],
   "source": [
    "import pandas as pd\n",
    "from tensorflow.keras.models import load_model\n",
    "from tensorflow.keras.preprocessing.image import ImageDataGenerator"
   ]
  },
  {
   "cell_type": "code",
   "execution_count": null,
   "id": "1bea014d-e60a-43be-a623-2a1ab6733758",
   "metadata": {},
   "outputs": [],
   "source": [
    "csv_path = '../evaluate.csv'\n",
    "df = pd.read_csv(csv_path)\n",
    "df['path'] = df['id_code'].apply(lambda x: f\"../train_images/{x}.png\")\n",
    "df['diagnosis'] = df['diagnosis'].astype(str)\n",
    "\n",
    "#df = df.head(10)\n",
    "#print(df)"
   ]
  },
  {
   "cell_type": "code",
   "execution_count": null,
   "id": "1558fdad-da35-4ca0-8d2a-e8d3e3567beb",
   "metadata": {},
   "outputs": [],
   "source": [
    "x, y = 512, 512"
   ]
  },
  {
   "cell_type": "code",
   "execution_count": null,
   "id": "f683e432-7dea-4397-9af5-30aeb8923744",
   "metadata": {},
   "outputs": [],
   "source": [
    "model = load_model('../models/diabetic_retinopathy_model.h5')"
   ]
  },
  {
   "cell_type": "code",
   "execution_count": null,
   "id": "2b51d4cc-a03a-4f5f-beb5-3b22362d1063",
   "metadata": {},
   "outputs": [],
   "source": [
    "test_datagen = ImageDataGenerator(rescale=1./255)"
   ]
  },
  {
   "cell_type": "code",
   "execution_count": null,
   "id": "f60ee1fd-93c5-487b-9dbb-60423d306c75",
   "metadata": {},
   "outputs": [],
   "source": [
    "test_generator = test_datagen.flow_from_dataframe(\n",
    "    df,\n",
    "    directory=None,\n",
    "    x_col='path',\n",
    "    y_col='diagnosis',\n",
    "    target_size=(x, y),\n",
    "    color_mode='rgb',\n",
    "    class_mode='categorical',\n",
    "    batch_size=32,\n",
    "    shuffle=True,\n",
    "    seed=None,\n",
    "    validate_filenames=True,\n",
    ")"
   ]
  },
  {
   "cell_type": "code",
   "execution_count": null,
   "id": "44b53600-51a6-4e0e-9296-02cb91b4452a",
   "metadata": {},
   "outputs": [],
   "source": [
    "loss, accuracy = model.evaluate(test_generator)\n",
    "    \n",
    "print(f\"Test Loss: {loss}\")\n",
    "print(f\"Test Accuracy: {accuracy}\")"
   ]
  }
 ],
 "metadata": {
  "kernelspec": {
   "display_name": "Python 3 (ipykernel)",
   "language": "python",
   "name": "python3"
  },
  "language_info": {
   "codemirror_mode": {
    "name": "ipython",
    "version": 3
   },
   "file_extension": ".py",
   "mimetype": "text/x-python",
   "name": "python",
   "nbconvert_exporter": "python",
   "pygments_lexer": "ipython3",
   "version": "3.12.3"
  }
 },
 "nbformat": 4,
 "nbformat_minor": 5
}
