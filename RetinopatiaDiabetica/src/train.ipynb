{
 "cells": [
  {
   "cell_type": "code",
   "execution_count": null,
   "id": "dbe54a28-3c1c-4306-8e46-b19b488df730",
   "metadata": {},
   "outputs": [],
   "source": [
    "import os\n",
    "import pandas as pd\n",
    "from tensorflow.keras.models import Sequential\n",
    "from tensorflow.keras.layers import Conv2D, MaxPooling2D, Flatten, Dense, Dropout, Input\n",
    "from tensorflow.keras.preprocessing.image import ImageDataGenerator"
   ]
  },
  {
   "cell_type": "code",
   "execution_count": null,
   "id": "f10eccb7-ee76-4b6b-9fdf-913ceec56027",
   "metadata": {},
   "outputs": [],
   "source": [
    "csv_path = '../train.csv'\n",
    "df = pd.read_csv(csv_path)\n",
    "df['path'] = df['id_code'].apply(lambda x: f\"../train_images/{x}.png\")\n",
    "df['diagnosis'] = df['diagnosis'].astype(str)\n",
    "\n",
    "#df = df.head(10)\n",
    "#print(df)"
   ]
  },
  {
   "cell_type": "code",
   "execution_count": null,
   "id": "9aed4d2c-f0ca-42c4-a1e6-32c364a9a5aa",
   "metadata": {},
   "outputs": [],
   "source": [
    "x, y = 516, 516"
   ]
  },
  {
   "cell_type": "code",
   "execution_count": null,
   "id": "4f71a9b4-f543-4c6a-a34e-1fcbc373e851",
   "metadata": {},
   "outputs": [],
   "source": [
    "train_datagen = ImageDataGenerator(\n",
    "    rescale=1./255, \n",
    "    horizontal_flip=True\n",
    ")"
   ]
  },
  {
   "cell_type": "code",
   "execution_count": null,
   "id": "73e57b53-db9c-42e7-89ed-c77ae930509a",
   "metadata": {},
   "outputs": [],
   "source": [
    "train_generator = train_datagen.flow_from_dataframe(\n",
    "    df,\n",
    "    directory=None,\n",
    "    x_col='path',\n",
    "    y_col='diagnosis',\n",
    "    target_size=(x, y),\n",
    "    color_mode='rgb',\n",
    "    class_mode='categorical',\n",
    "    batch_size=32,\n",
    "    shuffle=True,\n",
    "    seed=None,\n",
    "    validate_filenames=True,\n",
    ")"
   ]
  },
  {
   "cell_type": "code",
   "execution_count": null,
   "id": "f9313fe1-f911-40f8-9489-8e5485095d6c",
   "metadata": {},
   "outputs": [],
   "source": [
    "model = Sequential([\n",
    "        Input(shape=(x, y, 3)),\n",
    "        Conv2D(32, (3, 3), activation='relu'),\n",
    "        MaxPooling2D(2, 2),\n",
    "        Conv2D(64, (3, 3), activation='relu'),\n",
    "        MaxPooling2D(2, 2),\n",
    "        Conv2D(128, (3, 3), activation='relu'),\n",
    "        MaxPooling2D(2, 2),\n",
    "        Flatten(),\n",
    "        Dropout(0.5),\n",
    "        Dense(512, activation='relu'),\n",
    "        Dense(len(train_generator.class_indices), activation='softmax')\n",
    "    ])\n",
    "model.compile(optimizer='adam', loss='binary_crossentropy', metrics=['accuracy'])\n",
    "#model.summary()"
   ]
  },
  {
   "cell_type": "code",
   "execution_count": null,
   "id": "3be945a7-8a48-43d8-84c6-a8444f1b8259",
   "metadata": {},
   "outputs": [],
   "source": [
    "history = model.fit(train_generator, epochs=1)"
   ]
  },
  {
   "cell_type": "code",
   "execution_count": null,
   "id": "47049290-e48d-45b6-882f-0af0bf54997d",
   "metadata": {},
   "outputs": [],
   "source": [
    "model.save(os.path.join('../models', 'diabetic_retinopathy_model.h5'))"
   ]
  },
  {
   "cell_type": "code",
   "execution_count": null,
   "id": "f38681da-3592-44ae-80af-21cb962b6a3f",
   "metadata": {},
   "outputs": [],
   "source": []
  }
 ],
 "metadata": {
  "kernelspec": {
   "display_name": "Python 3 (ipykernel)",
   "language": "python",
   "name": "python3"
  },
  "language_info": {
   "codemirror_mode": {
    "name": "ipython",
    "version": 3
   },
   "file_extension": ".py",
   "mimetype": "text/x-python",
   "name": "python",
   "nbconvert_exporter": "python",
   "pygments_lexer": "ipython3",
   "version": "3.12.3"
  }
 },
 "nbformat": 4,
 "nbformat_minor": 5
}
